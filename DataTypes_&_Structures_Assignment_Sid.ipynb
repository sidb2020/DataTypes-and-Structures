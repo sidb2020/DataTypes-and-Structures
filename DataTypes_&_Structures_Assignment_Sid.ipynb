{
  "nbformat": 4,
  "nbformat_minor": 0,
  "metadata": {
    "colab": {
      "provenance": []
    },
    "kernelspec": {
      "name": "python3",
      "display_name": "Python 3"
    },
    "language_info": {
      "name": "python"
    }
  },
  "cells": [
    {
      "cell_type": "markdown",
      "source": [
        "#DataTypes & Structures Theoretical Questions\n",
        "\n",
        "####1. What are data structures, and why are they important ?\n",
        "-  In Python, data structures are ways of organizing and storing data to perform operations efficiently. Python has several built-in data structures that make it easier to handle data in an organized way. These data structures allow you to perform tasks like searching, inserting, updating, and deleting data.\n",
        "\n",
        "Common Python Data Structures:\n",
        "  - Lists-\n",
        "- Ordered collections of items, which can be of different data types.\n",
        "- Mutable (can be changed after creation).\n",
        "- Supports indexing, slicing, appending, and inserting elements. For Example:\n",
        "\n"
      ],
      "metadata": {
        "id": "OMxdSjZROzx_"
      }
    },
    {
      "cell_type": "code",
      "source": [
        "my_list = [1, 2, 3, 4]\n",
        "my_list.append(5)\n",
        "print(my_list)"
      ],
      "metadata": {
        "colab": {
          "base_uri": "https://localhost:8080/"
        },
        "id": "VXknZ7vCQVgH",
        "outputId": "6be4808f-6073-42ea-fa7b-2b7a41c0be6f"
      },
      "execution_count": 1,
      "outputs": [
        {
          "output_type": "stream",
          "name": "stdout",
          "text": [
            "[1, 2, 3, 4, 5]\n"
          ]
        }
      ]
    },
    {
      "cell_type": "markdown",
      "source": [
        "  - Tuples-\n",
        "- Similar to lists, but immutable (cannot be modified once created).\n",
        "- Useful for storing data that shouldn’t change. For Example:\n",
        "\n",
        "my_tuple = (1, 2, 3)\n",
        "\n",
        "  - Dictionaries (dict)-\n",
        "- Store key-value pairs.\n",
        "- Keys must be unique and immutable (e.g., strings, numbers).\n",
        "- Very efficient for looking up data based on keys. For Example:\n",
        "\n"
      ],
      "metadata": {
        "id": "Lq7VU0M_QbyO"
      }
    },
    {
      "cell_type": "code",
      "source": [
        "my_dict = {'name': 'Sid', 'age': 34}\n",
        "print(my_dict['name'])"
      ],
      "metadata": {
        "colab": {
          "base_uri": "https://localhost:8080/"
        },
        "id": "P21PYATsQ2gK",
        "outputId": "8477228e-9fa4-4c32-aafd-27a4324fc230"
      },
      "execution_count": 2,
      "outputs": [
        {
          "output_type": "stream",
          "name": "stdout",
          "text": [
            "Sid\n"
          ]
        }
      ]
    },
    {
      "cell_type": "markdown",
      "source": [
        "  - Sets-\n",
        "- An unordered collection of unique elements.\n",
        "- Does not allow duplicates.\n",
        "- Supports mathematical operations like union, intersection, and difference. For Example:\n",
        "\n",
        "\n"
      ],
      "metadata": {
        "id": "0EyMp0q7Q-sy"
      }
    },
    {
      "cell_type": "code",
      "source": [
        "my_set = {1, 2, 3, 4}\n",
        "my_set.add(5)\n",
        "print(my_set)"
      ],
      "metadata": {
        "colab": {
          "base_uri": "https://localhost:8080/"
        },
        "id": "UOvL_kjyRIGW",
        "outputId": "2dcf6aa2-ae9f-4dc9-8dc3-8de91bff0bca"
      },
      "execution_count": 3,
      "outputs": [
        {
          "output_type": "stream",
          "name": "stdout",
          "text": [
            "{1, 2, 3, 4, 5}\n"
          ]
        }
      ]
    },
    {
      "cell_type": "markdown",
      "source": [
        "  - Queues (using collections.deque)-\n",
        "- A double-ended queue that allows fast appends and pops from both ends.\n",
        "- Useful for implementing FIFO (First-In-First-Out) data structures. For Example:\n",
        "\n"
      ],
      "metadata": {
        "id": "zS69_HaERK8x"
      }
    },
    {
      "cell_type": "code",
      "source": [
        "from collections import deque\n",
        "queue = deque([1, 2, 3])\n",
        "queue.append(4)\n",
        "queue.popleft()\n",
        "print(queue)"
      ],
      "metadata": {
        "colab": {
          "base_uri": "https://localhost:8080/"
        },
        "id": "6Hf7PU1DRjZW",
        "outputId": "87bf9579-c4f6-4651-babe-991133c94e34"
      },
      "execution_count": 4,
      "outputs": [
        {
          "output_type": "stream",
          "name": "stdout",
          "text": [
            "deque([2, 3, 4])\n"
          ]
        }
      ]
    },
    {
      "cell_type": "markdown",
      "source": [
        "  - Stacks (using collections.deque or lists)-\n",
        "- A LIFO (Last-In, First-Out) data structure.\n",
        "- Elements can be pushed to or popped from the top. For Example:\n",
        "\n"
      ],
      "metadata": {
        "id": "N2uFyHZnRnrx"
      }
    },
    {
      "cell_type": "code",
      "source": [
        "stack = []\n",
        "stack.append(1)\n",
        "stack.append(2)\n",
        "stack.pop()\n",
        "print(stack)"
      ],
      "metadata": {
        "colab": {
          "base_uri": "https://localhost:8080/"
        },
        "id": "xn9HV-_QR0Z5",
        "outputId": "d9f99bd7-febb-411a-a7af-f082a0479a6d"
      },
      "execution_count": 5,
      "outputs": [
        {
          "output_type": "stream",
          "name": "stdout",
          "text": [
            "[1]\n"
          ]
        }
      ]
    },
    {
      "cell_type": "markdown",
      "source": [
        "  - Heaps (using heapq)-\n",
        "- A binary heap implementation, useful for priority queues.\n",
        "- Provides an efficient way to get the smallest (or largest) element. For Example:\n",
        "\n"
      ],
      "metadata": {
        "id": "yPsoYcuUR4mo"
      }
    },
    {
      "cell_type": "code",
      "source": [
        "import heapq\n",
        "heap = [3, 1, 4, 1, 5]\n",
        "heapq.heapify(heap)\n",
        "print(heap)"
      ],
      "metadata": {
        "colab": {
          "base_uri": "https://localhost:8080/"
        },
        "id": "mgrYUCltSM2h",
        "outputId": "3a8b240b-2101-478c-bd4b-b3a18ba00368"
      },
      "execution_count": 6,
      "outputs": [
        {
          "output_type": "stream",
          "name": "stdout",
          "text": [
            "[1, 1, 4, 3, 5]\n"
          ]
        }
      ]
    },
    {
      "cell_type": "markdown",
      "source": [
        "Data Structures in Python are important due to the following reason:\n",
        "  - Efficiency:\n",
        "\n",
        "Choosing the right data structure improves both time complexity (how fast an operation is) and space complexity (how much memory is used).\n",
        "For example, searching for an element in a list (O(n)) is slower than searching in a dictionary (O(1)).\n",
        "\n",
        "  - Optimizing Algorithms:\n",
        "\n",
        "Many algorithms (like sorting and searching) rely on specific data structures for optimal performance. Python’s built-in data structures are tailored for these operations.\n",
        "For instance, the list is great for accessing elements by index, while dictionaries excel at key-value lookups.\n",
        "\n",
        "  - Simplifies Code:\n",
        "\n",
        "Built-in data structures like lists, sets, and dictionaries provide easy-to-use, high-level abstractions for handling common tasks, so you don't have to reinvent the wheel.\n",
        "This results in simpler and more maintainable code.\n",
        "\n",
        "  - Versatility:\n",
        "\n",
        "Python’s data structures (like lists and dictionaries) are very flexible, allowing them to store various types of data and to be used in many contexts.\n",
        "\n",
        "  - Handling Large Data:\n",
        "\n",
        "Efficient data structures allow you to handle large amounts of data without significant performance degradation. For instance, using a set to check for membership is much faster than using a list.\n",
        "\n",
        "####2. Explain the difference between mutable and immutable data types with examples.\n",
        "-  Mutable Data Types:\n",
        "\n",
        "A mutable data type is one whose values or content can be changed (modified) after it has been created. In other words, the object itself can be altered during the program's execution without needing to create a new object.\n",
        "\n",
        "Examples of Mutable Data Types:\n",
        "  - Lists:\n",
        "\n",
        "Lists are mutable, meaning their elements can be changed, added, or removed.\n",
        "For Example:"
      ],
      "metadata": {
        "id": "xNp0yC9dSXjI"
      }
    },
    {
      "cell_type": "code",
      "source": [
        "my_list = [1, 2, 3]\n",
        "my_list[0] = 100  # Modifying an element\n",
        "my_list.append(4)  # Adding an element\n",
        "print(my_list)"
      ],
      "metadata": {
        "colab": {
          "base_uri": "https://localhost:8080/"
        },
        "id": "NYnABIRSUDmP",
        "outputId": "fa6c09aa-b53d-4e93-81a9-2e7704ea7f84"
      },
      "execution_count": 7,
      "outputs": [
        {
          "output_type": "stream",
          "name": "stdout",
          "text": [
            "[100, 2, 3, 4]\n"
          ]
        }
      ]
    },
    {
      "cell_type": "markdown",
      "source": [
        "  - Dictionaries:\n",
        "\n",
        "Dictionaries are mutable, and their keys' values can be modified.\n",
        "For Example:"
      ],
      "metadata": {
        "id": "meJf77wdULol"
      }
    },
    {
      "cell_type": "code",
      "source": [
        "my_dict = {'name': 'Sid', 'age': 34}\n",
        "my_dict['age'] = 35  # Modifying a value\n",
        "my_dict['city'] = 'Varanasi'  # Adding a new key-value pair\n",
        "print(my_dict)"
      ],
      "metadata": {
        "colab": {
          "base_uri": "https://localhost:8080/"
        },
        "id": "4aDAmuHIUSvz",
        "outputId": "381f5e19-8bf0-47a0-f91d-9c000e6ab71a"
      },
      "execution_count": 8,
      "outputs": [
        {
          "output_type": "stream",
          "name": "stdout",
          "text": [
            "{'name': 'Sid', 'age': 35, 'city': 'Varanasi'}\n"
          ]
        }
      ]
    },
    {
      "cell_type": "markdown",
      "source": [
        "  - Sets:\n",
        "\n",
        "Sets are mutable, so you can add or remove elements.\n",
        "For Example:"
      ],
      "metadata": {
        "id": "EdfaAD5rUmnb"
      }
    },
    {
      "cell_type": "code",
      "source": [
        "my_set = {1, 2, 3}\n",
        "my_set.add(4)  # Adding an element\n",
        "my_set.remove(2)  # Removing an element\n",
        "print(my_set)"
      ],
      "metadata": {
        "colab": {
          "base_uri": "https://localhost:8080/"
        },
        "id": "fGMqpqqYUt3P",
        "outputId": "c0790b0a-3805-444c-fee7-b9b58e105132"
      },
      "execution_count": 15,
      "outputs": [
        {
          "output_type": "stream",
          "name": "stdout",
          "text": [
            "{1, 3, 4}\n"
          ]
        }
      ]
    },
    {
      "cell_type": "markdown",
      "source": [
        "-  Immutable Data Types:\n",
        "\n",
        "An immutable data type is one whose values or content cannot be changed after it has been created. Once an object of an immutable type is assigned a value, it cannot be altered.\n",
        "\n",
        "Examples of Immutable Data Types:\n",
        "  - Tuples:\n",
        "\n",
        "Tuples are immutable, so once a tuple is created, its elements cannot be modified.\n",
        "For Example:\n",
        "\n",
        "my_tuple = (1, 2, 3)\n",
        "\n",
        "Attempting to modify an element will raise an error:\n",
        "\n",
        "my_tuple[0] = 100\n",
        "\n",
        "TypeError: 'tuple' object does not support item assignment\n",
        "\n",
        "  - Strings:\n",
        "\n",
        "Strings are immutable. Any operation that seems to modify a string (like concatenation or replacement) actually creates a new string object.\n",
        "For Example:"
      ],
      "metadata": {
        "id": "UvxwlPs4UyjQ"
      }
    },
    {
      "cell_type": "code",
      "source": [
        "my_string = \"Hello\"\n",
        "# You can't change individual characters of a string\n",
        "# my_string[0] = \"h\"  # TypeError: 'str' object does not support item assignment\n",
        "\n",
        "new_string = my_string.replace(\"H\", \"h\")  # Creating a new string\n",
        "print(new_string)"
      ],
      "metadata": {
        "colab": {
          "base_uri": "https://localhost:8080/"
        },
        "id": "8KvulcP8WCkB",
        "outputId": "81d2228c-b747-47db-de77-26ebe0600907"
      },
      "execution_count": 10,
      "outputs": [
        {
          "output_type": "stream",
          "name": "stdout",
          "text": [
            "hello\n"
          ]
        }
      ]
    },
    {
      "cell_type": "markdown",
      "source": [
        "  - Integers, Floats, and Booleans:\n",
        "\n",
        "All of these are immutable types. When you change their value, you’re actually creating a new object.\n",
        "For Example:"
      ],
      "metadata": {
        "id": "RKhMyhCbWIGt"
      }
    },
    {
      "cell_type": "code",
      "source": [
        "x = 5\n",
        "x = 10  # A new integer object is created, x no longer points to 5\n",
        "print(x)"
      ],
      "metadata": {
        "colab": {
          "base_uri": "https://localhost:8080/"
        },
        "id": "jKZ1Fkf4WRMy",
        "outputId": "995b899e-bf42-4903-8138-3a52d3fdbf54"
      },
      "execution_count": 11,
      "outputs": [
        {
          "output_type": "stream",
          "name": "stdout",
          "text": [
            "10\n"
          ]
        }
      ]
    },
    {
      "cell_type": "markdown",
      "source": [
        "####3. What are the main differences between lists and tuples in Python ?\n",
        "-  In Python, lists and tuples are both used to store collections of data. While they share some similarities, they have key differences that make each of them suitable for different use cases. Here's a breakdown of the main differences between lists and tuples:\n",
        "  - Mutability\n",
        "- Lists: Mutable — You can modify a list after it has been created by adding, removing, or changing its elements.\n",
        "- Tuples: Immutable — Once a tuple is created, you cannot change, add, or remove its elements.\n",
        "     \n",
        "  - Syntax\n",
        "- Lists: Defined using square brackets [].  \n",
        "- Tuples: Defined using parentheses (). You can also define a tuple with a single element by adding a trailing comma.\n",
        "     \n",
        "  - Performance\n",
        "- Lists: Because lists are mutable, they are generally slower in performance compared to tuples for iteration and access.\n",
        "- Tuples: Tuples are faster than lists for iteration and access due to their immutability and fixed size, which allows for optimizations.\n",
        "\n",
        "  - Use Case and Purpose\n",
        "- Lists: Best suited for collections of data that may need to be modified (e.g., adding/removing elements).\n",
        "- Tuples: Best suited for data that should remain constant throughout the program. Tuples are commonly used to represent fixed collections of data, such as coordinates or a record of related values.\n",
        "     \n",
        "  - Methods\n",
        "- Lists: Have more methods available because they are mutable, such as .append(), .remove(), .extend(), .insert(), etc.\n",
        "- Tuples: Have fewer built-in methods since they are immutable. The main methods are .count() and .index().\n",
        "    \n",
        "  - Memory Consumption\n",
        "- Lists: Because they are mutable, lists generally consume more memory than tuples.\n",
        "- Tuples: Since tuples are immutable and have a fixed size, they tend to be more memory-efficient than lists.\n",
        "\n",
        "  - Safety (Immutability vs. Mutability)\n",
        "- Lists: Since lists are mutable, they can be changed by any part of the program that has access to them. This can sometimes lead to unintentional side effects if shared between functions.\n",
        "- Tuples: Because tuples are immutable, their contents cannot be changed, making them safer to use in situations where data integrity must be preserved.\n",
        "\n",
        "  - Hashability\n",
        "- Lists: Lists are not hashable and cannot be used as dictionary keys or elements in a set because they are mutable.\n",
        "- Tuples: Tuples are hashable (if all elements inside the tuple are hashable) and can be used as keys in dictionaries or elements in sets.\n",
        "    \n",
        "  - Nested Data Structures\n",
        "- Lists: Can contain other lists or mutable objects as elements, which can then be modified.\n",
        "- Tuples: Can contain lists or other mutable objects as elements, but you still cannot change the tuple itself.\n",
        "\n",
        "####4. Describe how dictionaries store data.\n",
        "-  Here's an explanation of how dictionaries store data:\n",
        "    - Hash table: Keys are hashed using a hash function to determine where the key-value pair is stored in memory.\n",
        "    - Efficient lookup: Dictionary access is fast (O(1) time complexity) due to direct indexing via hashed keys.\n",
        "    - Unique keys: Keys in a dictionary must be unique and immutable.\n",
        "    - Collision resolution: If two keys have the same hash value, Python uses techniques like chaining or open addressing to resolve collisions.\n",
        "\n",
        "Here's a basic example of how a dictionary stores and retrieves data:"
      ],
      "metadata": {
        "id": "NASY_h7beuWO"
      }
    },
    {
      "cell_type": "code",
      "source": [
        "# Create a dictionary\n",
        "my_dict = {'name': 'Sid', 'age': 34, 'city': 'Varanasi'}\n",
        "\n",
        "# Access a value using a key\n",
        "print(my_dict['name'])\n",
        "\n",
        "# Add a new key-value pair\n",
        "my_dict['occupation'] = 'HRR'\n",
        "\n",
        "# Modify a value\n",
        "my_dict['age'] = 35\n",
        "\n",
        "# Delete a key-value pair\n",
        "del my_dict['city']\n",
        "\n",
        "print(my_dict)"
      ],
      "metadata": {
        "colab": {
          "base_uri": "https://localhost:8080/"
        },
        "id": "G6_ruLBzj47n",
        "outputId": "9f7c0ce7-76a2-479f-d0f6-64a59c8e654d"
      },
      "execution_count": 13,
      "outputs": [
        {
          "output_type": "stream",
          "name": "stdout",
          "text": [
            "Sid\n",
            "{'name': 'Sid', 'age': 35, 'occupation': 'HRR'}\n"
          ]
        }
      ]
    },
    {
      "cell_type": "markdown",
      "source": [
        "To illustrate the hash table concept with a simple example:"
      ],
      "metadata": {
        "id": "xhbRrZkikPtx"
      }
    },
    {
      "cell_type": "code",
      "source": [
        "my_dict = {'name': 'Sid', 'age': 34}\n",
        "\n",
        "# Let's assume the following hash values for the keys\n",
        "# 'name' -> hash(\"name\") = 42\n",
        "# 'age' -> hash(\"age\") = 93\n",
        "\n",
        "# When accessing my_dict['name'], Python hashes the key \"name\", finds hash value 42,\n",
        "# and retrieves the value 'Alice' from the hash table."
      ],
      "metadata": {
        "id": "VrdFSKXjk2L7"
      },
      "execution_count": 14,
      "outputs": []
    },
    {
      "cell_type": "markdown",
      "source": [
        "####5. Why might you use a set instead of a list in Python ?\n",
        "-  Use a set instead of a list when:\n",
        "\n",
        "You need unique elements (no duplicates).\n",
        "\n",
        "Use case for sets: When you want to track items that should only appear once (e.g., unique tags, unique IDs).\n"
      ],
      "metadata": {
        "id": "6azMAIB-lPRB"
      }
    },
    {
      "cell_type": "code",
      "source": [
        "my_list = [1, 2, 2, 3, 3, 3]\n",
        "my_set = set(my_list)\n",
        "print(my_set)"
      ],
      "metadata": {
        "colab": {
          "base_uri": "https://localhost:8080/"
        },
        "id": "_0K3iVGioMII",
        "outputId": "b02dd905-a79e-41e7-8383-b727a1b52e1b"
      },
      "execution_count": 16,
      "outputs": [
        {
          "output_type": "stream",
          "name": "stdout",
          "text": [
            "{1, 2, 3}\n"
          ]
        }
      ]
    },
    {
      "cell_type": "markdown",
      "source": [
        "You need to perform fast membership tests (checking if an element exists).\n",
        "\n",
        "Use case for sets: When you need to check for the existence of an item frequently (e.g., checking if a value is in a collection of allowed values)."
      ],
      "metadata": {
        "id": "-Nb39oe5oQZ_"
      }
    },
    {
      "cell_type": "code",
      "source": [
        "my_set = {1, 2, 3}\n",
        "print(2 in my_set)"
      ],
      "metadata": {
        "colab": {
          "base_uri": "https://localhost:8080/"
        },
        "id": "w8SchwSRovxd",
        "outputId": "48d43cbd-12ed-42c1-f348-2d89f6c5bcd2"
      },
      "execution_count": 17,
      "outputs": [
        {
          "output_type": "stream",
          "name": "stdout",
          "text": [
            "True\n"
          ]
        }
      ]
    },
    {
      "cell_type": "markdown",
      "source": [
        "You want to perform set operations like union, intersection, or difference.\n",
        "\n",
        "Use case for sets: When you need to perform set operations like finding common elements, elements in one set but not another, etc."
      ],
      "metadata": {
        "id": "noCnAL1iowO1"
      }
    },
    {
      "cell_type": "code",
      "source": [
        "set1 = {1, 2, 3}\n",
        "set2 = {3, 4, 5}\n",
        "\n",
        "# Union\n",
        "print(set1 | set2)\n",
        "\n",
        "# Intersection\n",
        "print(set1 & set2)\n",
        "\n",
        "# Difference\n",
        "print(set1 - set2)"
      ],
      "metadata": {
        "colab": {
          "base_uri": "https://localhost:8080/"
        },
        "id": "txH63yIDpPSB",
        "outputId": "efc8024d-f5ab-4283-eadc-f907ee476f02"
      },
      "execution_count": 18,
      "outputs": [
        {
          "output_type": "stream",
          "name": "stdout",
          "text": [
            "{1, 2, 3, 4, 5}\n",
            "{3}\n",
            "{1, 2}\n"
          ]
        }
      ]
    },
    {
      "cell_type": "markdown",
      "source": [
        "You don't care about the order of the elements.\n",
        "\n",
        "Use case for sets: When the order of elements is not important, and you only care about the presence or absence of items (e.g., storing a collection of unique items without caring about order)."
      ],
      "metadata": {
        "id": "ExoSa173pP67"
      }
    },
    {
      "cell_type": "code",
      "source": [
        "my_set = {1, 2, 3}\n",
        "my_list = [1, 2, 3]\n",
        "\n",
        "# Set does not guarantee order\n",
        "print(my_set)\n",
        "\n",
        "# List maintains order\n",
        "print(my_list)"
      ],
      "metadata": {
        "colab": {
          "base_uri": "https://localhost:8080/"
        },
        "id": "HeWHjrH2ptwu",
        "outputId": "3e63dbd1-6d53-4b64-e882-2d4351c684b5"
      },
      "execution_count": 19,
      "outputs": [
        {
          "output_type": "stream",
          "name": "stdout",
          "text": [
            "{1, 2, 3}\n",
            "[1, 2, 3]\n"
          ]
        }
      ]
    },
    {
      "cell_type": "markdown",
      "source": [
        "You need a memory-efficient collection for unique items.\n",
        "\n",
        "Use case for sets: When you need to store a large collection of unique elements but want to optimize memory usage.\n",
        "\n",
        "You need to store hashable (immutable) elements.\n",
        "\n",
        "Use case for sets: When you need to store only immutable (hashable) objects and use the set for mathematical operations or set-based operations, such as dictionary keys or set operations."
      ],
      "metadata": {
        "id": "FwRqhYRDpvBQ"
      }
    },
    {
      "cell_type": "code",
      "source": [
        "my_set = {(1, 2), (3, 4)}  # Tuples are immutable and hashable"
      ],
      "metadata": {
        "id": "C9Op__SMq-IS"
      },
      "execution_count": null,
      "outputs": []
    },
    {
      "cell_type": "markdown",
      "source": [
        "Example of using Set vs List:"
      ],
      "metadata": {
        "id": "HQbKvmnZrBFT"
      }
    },
    {
      "cell_type": "code",
      "source": [
        "# Example 1: Using List (with duplicates)\n",
        "my_list = [1, 2, 2, 3, 4, 4, 5]\n",
        "print(my_list.count(2))\n",
        "\n",
        "# Example 2: Using Set (unique elements)\n",
        "my_set = {1, 2, 2, 3, 4, 4, 5}\n",
        "print(my_set)\n",
        "\n",
        "# Example 3: Set membership test (fast)\n",
        "print(3 in my_set)\n",
        "\n",
        "# Example 4: List membership test (slower)\n",
        "print(3 in my_list)"
      ],
      "metadata": {
        "colab": {
          "base_uri": "https://localhost:8080/"
        },
        "id": "3xm1c3wlrM_x",
        "outputId": "092b0901-f712-4b4f-e2b4-9131cba792d7"
      },
      "execution_count": 20,
      "outputs": [
        {
          "output_type": "stream",
          "name": "stdout",
          "text": [
            "2\n",
            "{1, 2, 3, 4, 5}\n",
            "True\n",
            "True\n"
          ]
        }
      ]
    },
    {
      "cell_type": "markdown",
      "source": [
        "####6. What is a string in Python, and how is it different from a list ?\n",
        "-  In Python, a string is a sequence of characters, often used to represent text. Strings are one of the most commonly used data types in Python and are defined by enclosing characters in either single quotes (') or double quotes (\"). Strings are immutable, meaning that once they are created, their values cannot be changed.\n",
        "\n",
        "On the other hand, a list is a collection of elements (which can be of any data type, including strings, integers, etc.) and is mutable, meaning its contents can be modified after creation.\n",
        "\n",
        "For Example:\n",
        "- String"
      ],
      "metadata": {
        "id": "euwlFY-NrZ3a"
      }
    },
    {
      "cell_type": "code",
      "source": [
        "my_string = \"hello\"\n",
        "print(my_string[0])\n",
        "print(my_string[1:4])\n",
        "\n",
        "# Immutable: This will raise an error\n",
        "# my_string[0] = 'H'  # TypeError: 'str' object does not support item assignment\n",
        "\n",
        "# String concatenation\n",
        "new_string = my_string + \" world\"\n",
        "print(new_string)"
      ],
      "metadata": {
        "colab": {
          "base_uri": "https://localhost:8080/"
        },
        "id": "0LbB1S0ltDO4",
        "outputId": "3adc3549-4ead-4097-afcf-2d3baf0f30d8"
      },
      "execution_count": 21,
      "outputs": [
        {
          "output_type": "stream",
          "name": "stdout",
          "text": [
            "h\n",
            "ell\n",
            "hello world\n"
          ]
        }
      ]
    },
    {
      "cell_type": "markdown",
      "source": [
        "- List"
      ],
      "metadata": {
        "id": "9wpP0g4btM5W"
      }
    },
    {
      "cell_type": "code",
      "source": [
        "my_list = [1, 2, 3]\n",
        "print(my_list[0])\n",
        "print(my_list[1:3])\n",
        "\n",
        "# Mutable: This works because lists are mutable\n",
        "my_list[0] = 100\n",
        "print(my_list)\n",
        "\n",
        "# List concatenation\n",
        "new_list = my_list + [4, 5]\n",
        "print(new_list)\n",
        "\n",
        "# Adding elements to the list\n",
        "my_list.append(4)\n",
        "print(my_list)"
      ],
      "metadata": {
        "colab": {
          "base_uri": "https://localhost:8080/"
        },
        "id": "QgjWMXMqtUi5",
        "outputId": "2053fc37-8920-4d0e-8b66-f6d2fecd02ea"
      },
      "execution_count": 22,
      "outputs": [
        {
          "output_type": "stream",
          "name": "stdout",
          "text": [
            "1\n",
            "[2, 3]\n",
            "[100, 2, 3]\n",
            "[100, 2, 3, 4, 5]\n",
            "[100, 2, 3, 4]\n"
          ]
        }
      ]
    },
    {
      "cell_type": "markdown",
      "source": [
        "####7. How do tuples ensure data integrity in Python ?\n",
        "-  In Python, tuples ensure data integrity primarily through their immutability. Once a tuple is created, its elements cannot be modified, added, or removed. This property makes tuples an excellent choice when you need to ensure that the data stored in a collection remains consistent and unaltered throughout the program.\n",
        "\n",
        "Here's how the immutability of tuples contributes to data integrity:\n",
        "\n",
        "-  Safe Data Transfer: Tuples ensure that data passed to functions or between program parts remains unaltered.\n",
        "-  Consistency: Tuples provide a stable structure for grouping data, especially in contexts like dictionary keys and set elements.\n",
        "-  Hashability: Tuples can be used as keys in dictionaries or elements in sets because they are hashable and unchanging.\n",
        "-  Thread Safety: Since tuples are immutable, they can be safely shared across multiple threads in concurrent programming.\n",
        "-  Fixed Length: Tuples cannot have elements added or removed after creation, ensuring stability.\n",
        "\n",
        "In conclusion, tuples' immutability makes them an ideal choice for scenarios where data integrity is crucial, as they provide a guarantee that the data contained within them will remain consistent and unchanged throughout the execution of a program.\n",
        "\n",
        "####8. What is a hash table, and how does it relate to dictionaries in Python ?\n",
        "-  A hash table (also known as a hash map) is a data structure that stores key-value pairs and allows for fast access to values based on their associated keys. It uses a hash function to convert the key into an index in an internal array (or list). This index determines where the value associated with the key should be stored or retrieved from.\n",
        "\n",
        "Key Concepts of Hash Tables:\n",
        "  - Key-Value Pairs: A hash table stores data as pairs of keys and corresponding values. The key is unique, and each key is mapped to a value.\n",
        "\n",
        "  - Hash Function: The key is passed through a hash function, which converts it into a hash code (an integer) that determines the index in an array where the value will be stored. A good hash function minimizes the chance of collisions (where two different keys produce the same hash code).\n",
        "\n",
        "  - Collision Handling: When two keys produce the same hash value (called a \"collision\"), hash tables handle this by using various techniques like:\n",
        "\n",
        "    - Chaining: Store multiple elements at the same index using a linked list.\n",
        "    - Open Addressing: Find another empty slot in the table (like linear probing, quadratic probing, or double hashing).\n",
        "  - Efficiency:\n",
        "\n",
        "    - Insertion and lookup operations are typically O(1) on average, meaning they are very fast, even with large amounts of data.\n",
        "    - Deletion and searching also tend to be fast, but performance can degrade in certain edge cases, such as when the hash table is poorly sized or heavily loaded.\n",
        "\n",
        "- Hash Tables and Dictionaries in Python:\n",
        "\n",
        "In Python, the built-in dict (dictionary) type is implemented using a hash table. Python dictionaries store key-value pairs, and the keys are hashed to determine the location where the corresponding value is stored.\n",
        "\n",
        "Python Dictionaries use Hash Tables through following ways:\n",
        "  - Keys: In Python dictionaries, the keys must be hashable. This means the key must be immutable (e.g., strings, integers, tuples) and have a valid hash value. Python uses the built-in hash() function to compute the hash of the key.\n",
        "\n",
        "  - Hash Function: When you insert a key-value pair into a dictionary, Python computes the hash of the key using a hash function. The hash value is then used to determine the index in an internal array where the key-value pair should be stored.\n",
        "\n",
        "  - Efficient Lookups: When you access a value using its key in a dictionary (e.g., my_dict[key]), Python computes the hash of the key and retrieves the value in constant time on average, O(1).\n",
        "\n",
        "  - Collisions: In case of hash collisions (i.e., multiple keys generating the same hash value), Python handles them automatically using an internal technique, ensuring that the dictionary still works efficiently.\n",
        "\n",
        "####9. Can lists contain different data types in Python ?\n",
        "  -  Yes, lists in Python can contain elements of different data types. A Python list is a heterogeneous collection, meaning that it is not limited to storing only one type of data. You can store integers, strings, floats, booleans, and even other lists or complex objects in the same list.\n",
        "\n",
        "  For Example:"
      ],
      "metadata": {
        "id": "1k6dG6ETtpJW"
      }
    },
    {
      "cell_type": "code",
      "source": [
        "my_list = [1, \"hello\", 3.14, True, [5, 6], {\"phone_number\": \"8180021010\"}]\n",
        "\n",
        "print(my_list)"
      ],
      "metadata": {
        "colab": {
          "base_uri": "https://localhost:8080/"
        },
        "id": "M4JFzIxE89jP",
        "outputId": "2830f416-c1c1-4c0f-f5a2-cfebeec01c9c"
      },
      "execution_count": 24,
      "outputs": [
        {
          "output_type": "stream",
          "name": "stdout",
          "text": [
            "[1, 'hello', 3.14, True, [5, 6], {'phone_number': '8180021010'}]\n"
          ]
        }
      ]
    },
    {
      "cell_type": "markdown",
      "source": [
        "####10. Explain why strings are immutable in Python ?\n",
        "-  Strings are immutable in Python for several reasons:\n",
        "\n",
        "    - Performance Optimization: Immutability allows for memory efficiency (interning) and consistent hashing, which are beneficial in large programs.\n",
        "    - Safety and Predictability: Immutability ensures that strings cannot be changed unexpectedly, reducing errors and improving consistency.\n",
        "    - Functional Programming: Immutability aligns with functional programming principles, making strings safer and easier to reason about.\n",
        "    - Support for Multi-threading: Strings being immutable makes them thread-safe and avoids synchronization issues.\n",
        "    - Security: The immutability of strings helps preserve the integrity of sensitive data.\n",
        "\n",
        "By making strings immutable, Python provides a mechanism for working with textual data in a more reliable, efficient, and safe way.\n",
        "\n",
        "####11. What advantages do dictionaries offer over lists for certain tasks ?\n",
        "-  Advantages of Dictionaries Over Lists:\n",
        "    - Fast Lookups: O(1) time complexity for lookups, insertions, and deletions by key.\n",
        "    - Key-Value Mapping: Ideal for associating unique keys with values, enabling efficient mapping and retrieval.\n",
        "    - Uniqueness of Keys: Keys are unique, ensuring there are no duplicate keys in the dictionary.\n",
        "    - Flexible Key Access: Direct access to values via meaningful keys, which is often more intuitive than index-based access.\n",
        "    - Efficient Insertions/Deletions: Adding and removing elements is more efficient (O(1) average time) than in lists.\n",
        "    - Nested Structures: Easier to represent complex data compared to lists.\n",
        "\n",
        "Use Dictionaries:\n",
        "  - When you need to associate unique keys with values (e.g., mapping a name to an age).\n",
        "  - When you need fast lookup or retrieval of data by key.\n",
        "  - When the order of elements is not a priority, but key-based access is crucial.\n",
        "  - When working with complex data like nested structures.\n",
        "\n",
        "In contrast, lists are more suitable when the order of elements matters or when you need to store a sequence of items that can be accessed by their index.\n",
        "\n",
        "####12. Describe a scenario where using a tuple would be preferable over a list.\n",
        "-  Using a tuple would be preferable over a list in scenarios where you need an immutable collection of data. Since tuples are immutable, their values cannot be modified after they are created, which provides certain advantages in specific use cases. Here's a scenario where tuples is a better choice than lists:\n",
        "\n",
        "Scenario: Storing Coordinates (or Other Fixed Data)\n",
        "\n",
        "Imagine you are working with geographical data, such as coordinates (latitude, longitude), or perhaps other data where the values should remain unchanged after they are initially set.\n",
        "\n",
        "Reasons to use a tuple in this scenario:\n",
        "  - Immutability for Data Integrity: Tuples are immutable, meaning once the coordinates are set, they cannot be accidentally modified. This guarantees that the coordinates will remain consistent throughout the program, providing data integrity.\n",
        "\n",
        "  - Performance: Since tuples are immutable, Python can optimize their storage and access, which can make them faster and more memory-efficient compared to lists.\n",
        "\n",
        "  - Semantic Meaning: Using a tuple conveys the idea that the data (e.g., coordinates) is a fixed, unchangeable collection, making the code more readable and self-explanatory.\n",
        "\n",
        "  For Example:\n",
        "\n",
        "\n",
        "\n"
      ],
      "metadata": {
        "id": "jNtsnkWl9h9V"
      }
    },
    {
      "cell_type": "code",
      "source": [
        "# Using a tuple to store geographic coordinates\n",
        "coordinates = (40.7128, -74.0060)  # (latitude, longitude) for New York City\n",
        "\n",
        "# Tuples are immutable, so the following line would raise an error:\n",
        "# coordinates[0] = 41.0  # TypeError: 'tuple' object does not support item assignment\n",
        "\n",
        "print(coordinates)"
      ],
      "metadata": {
        "colab": {
          "base_uri": "https://localhost:8080/"
        },
        "id": "5Izr16upBqwn",
        "outputId": "58d57984-cf9e-492d-e734-a277b5553c2e"
      },
      "execution_count": 25,
      "outputs": [
        {
          "output_type": "stream",
          "name": "stdout",
          "text": [
            "(40.7128, -74.006)\n"
          ]
        }
      ]
    },
    {
      "cell_type": "markdown",
      "source": [
        "####13. How do sets handle duplicate values in Python ?\n",
        "-  In Python, sets automatically handle duplicate values by ensuring that each element in a set is unique. When you try to add a duplicate value to a set, it will simply ignore the duplicate and not include it. This behavior is one of the key features of sets in Python.\n",
        "\n",
        "Sets handle duplicate values through:\n",
        "  - Unique Elements Only: A set automatically removes any duplicate values. If you attempt to add a duplicate item to the set, it won't appear in the set, and no error will be raised.\n",
        "\n",
        "  For Example:"
      ],
      "metadata": {
        "id": "CVHvx_ndB0UV"
      }
    },
    {
      "cell_type": "code",
      "source": [
        "# Creating a set with duplicate elements\n",
        "my_set = {1, 2, 3, 4, 4, 5, 6, 6}\n",
        "\n",
        "# Printing the set\n",
        "print(my_set)"
      ],
      "metadata": {
        "colab": {
          "base_uri": "https://localhost:8080/"
        },
        "id": "S8LqejRQCyBA",
        "outputId": "0beff988-f234-406e-fa5d-185a4b92ac29"
      },
      "execution_count": 26,
      "outputs": [
        {
          "output_type": "stream",
          "name": "stdout",
          "text": [
            "{1, 2, 3, 4, 5, 6}\n"
          ]
        }
      ]
    },
    {
      "cell_type": "markdown",
      "source": [
        "####14. How does the \"in\" keyword work diffrently for lists and dictionaries ?\n",
        "-  The \"in\" keyword in Python is used to check for membership, but it behaves differently for lists and dictionaries. Here's an explanation of how it works in each case:\n",
        "\n",
        "  - Using in with Lists:\n",
        "\n",
        "When you use the in keyword with a list, Python checks if the value you're searching for exists anywhere in the list. It performs a linear search to look through all the elements in the list. For Example:"
      ],
      "metadata": {
        "id": "dD4WrNGAC1WT"
      }
    },
    {
      "cell_type": "code",
      "source": [
        "my_list = [1, 2, 3, 4, 5]\n",
        "\n",
        "# Checking if a value exists in the list\n",
        "print(3 in my_list)\n",
        "print(6 in my_list)"
      ],
      "metadata": {
        "colab": {
          "base_uri": "https://localhost:8080/"
        },
        "id": "vHt67w2GDjbn",
        "outputId": "c3787397-d11b-4be4-bf81-fb009782f545"
      },
      "execution_count": 27,
      "outputs": [
        {
          "output_type": "stream",
          "name": "stdout",
          "text": [
            "True\n",
            "False\n"
          ]
        }
      ]
    },
    {
      "cell_type": "markdown",
      "source": [
        "  - Using in with Dictionaries:\n",
        "\n",
        "When you use the in keyword with a dictionary, Python checks if the key you're searching for exists in the dictionary. It does not check for the presence of a value directly. For Example:"
      ],
      "metadata": {
        "id": "7f7TBrAIDvTO"
      }
    },
    {
      "cell_type": "code",
      "source": [
        "my_dict = {\"a\": 1, \"b\": 2, \"c\": 3}\n",
        "\n",
        "# Checking if a key exists in the dictionary\n",
        "print(\"a\" in my_dict)\n",
        "print(\"d\" in my_dict)"
      ],
      "metadata": {
        "colab": {
          "base_uri": "https://localhost:8080/"
        },
        "id": "0sRoKj4LD6Mk",
        "outputId": "c5c21ed6-da66-4b12-c194-a53d03f61a3d"
      },
      "execution_count": 28,
      "outputs": [
        {
          "output_type": "stream",
          "name": "stdout",
          "text": [
            "True\n",
            "False\n"
          ]
        }
      ]
    },
    {
      "cell_type": "markdown",
      "source": [
        "####15. Can you modify the elements of a tuple? Explain why or why not.\n",
        "-  No, you cannot modify the elements of a tuple in Python. Tuples are immutable data structures, meaning once a tuple is created, its contents cannot be changed. This includes adding, removing, or modifying elements in the tuple.\n",
        "\n",
        "Here's Why:\n",
        "  - Tuples are designed to be immutable to ensure the integrity of the data they contain. This immutability provides several benefits, including:\n",
        "\n",
        "  - Data Integrity: Since tuples cannot be altered, the data they hold remains consistent throughout the program. This can be important in situations where you want to guarantee that the contents of the tuple will not change.\n",
        "\n",
        "  - Performance: Tuples are often used in performance-critical sections of code. Their immutability allows Python to optimize memory usage and access speed, making them more efficient than lists when used in the right contexts.\n",
        "\n",
        "  - Hashable: Tuples can be used as dictionary keys because they are immutable. This would not be possible if they were mutable, as the hash value of a mutable object can change during its lifetime, potentially causing issues when used as a dictionary key.\n",
        "\n",
        "####16. What is a nested dictionary, and give an example of its use case ?\n",
        "-  A nested dictionary is a dictionary where the values are themselves dictionaries. In other words, a dictionary can contain other dictionaries as values, and these inner dictionaries can also contain other key-value pairs. Nested dictionaries are useful for representing hierarchical or multi-level data structures.\n",
        "\n",
        "Use Case: Managing Complex Data Structures\n",
        "  - A nested dictionary is ideal for organizing and managing data that has a hierarchical structure. Some common use cases for nested dictionaries include:\n",
        "\n",
        "  - Storing User Profiles: Each user could have a dictionary containing their personal information, contact details, preferences, and more.\n",
        "\n",
        "  - Hierarchical Data Representation: Representing categories and subcategories of products in an e-commerce site, or sections and subsections of a document or website.\n",
        "\n",
        "  - Configuration Settings: Configuration settings for different environments (like development, staging, and production) where each environment has different settings for database connections, API keys, etc.\n",
        "\n",
        "  - Storing Data for a Group of People: As in the example above, storing personal details, contact information, and addresses for multiple people.\n",
        "\n",
        "####17. Describe the time complexity of accessing elements in a dictionary.\n",
        "-  The time complexity of accessing elements in a dictionary in Python is O(1) on average, meaning it is a constant-time operation. This is because dictionaries in Python are implemented using a hash table internally.\n",
        "\n",
        "Internal working of dictionaries:\n",
        "  - Hashing: When you access an element in a dictionary by its key, Python applies a hash function to the key. This function returns a unique index (hash value) where the key-value pair is stored in the hash table.\n",
        "\n",
        "  - Direct Access: Using the hash value, Python can directly access the location in memory where the key-value pair is stored, allowing for constant-time access.\n",
        "\n",
        "Time Complexity:\n",
        "  - Average case (O(1)): In most cases, accessing an element by key is very fast, taking constant time because the hash function efficiently finds the correct index in the hash table.\n",
        "\n",
        "  - Worst case (O(n)): In rare cases, if multiple keys produce the same hash value (this is known as a hash collision), Python may need to search through a list of key-value pairs that share the same hash. In such cases, the time complexity for accessing the element could degrade to O(n), where n is the number of elements in the dictionary. However, hash collisions are relatively rare, and Python uses sophisticated techniques to minimize them.\n",
        "\n",
        "  For Example:\n",
        "\n"
      ],
      "metadata": {
        "id": "SBTvkmu_EDKP"
      }
    },
    {
      "cell_type": "code",
      "source": [
        "my_dict = {\"apple\": 1, \"banana\": 2, \"cherry\": 3}\n",
        "\n",
        "# Accessing an element by key\n",
        "value = my_dict[\"banana\"]  # O(1) time complexity on average\n",
        "\n",
        "print(value)"
      ],
      "metadata": {
        "colab": {
          "base_uri": "https://localhost:8080/"
        },
        "id": "GZZTsN_PYkG1",
        "outputId": "404b1529-0c2d-4152-90e3-168198743b1c"
      },
      "execution_count": 29,
      "outputs": [
        {
          "output_type": "stream",
          "name": "stdout",
          "text": [
            "2\n"
          ]
        }
      ]
    },
    {
      "cell_type": "markdown",
      "source": [
        "####18. In what situations are lists preferred over dictionaries ?\n",
        "-  Lists are preferred over dictionaries in certain situations where their characteristics are more suited to the task.\n",
        "Situations Where Lists are Preferred:\n",
        "\n",
        "    - When order matters: Lists maintain the order of elements.\n",
        "    - When you need indexed access: Lists allow access to elements by position.\n",
        "    - When duplicates are allowed: Lists can store duplicate values.\n",
        "    - When performing sequential operations: Lists are ideal for iterating, appending, and slicing.\n",
        "    - When you don’t need key-value pairs: Lists are simpler when key-value pairing is unnecessary.\n",
        "\n",
        "In summary, lists are ideal when you need ordered, indexable, sequential data structures, especially when the data is homogeneous and may contain duplicates.\n",
        "\n",
        "####19. Why are dictionaries considered unordered, and how does that affect data retrieval ?\n",
        "-  Dictionaries in Python were originally considered unordered because the elements (key-value pairs) were stored in a random order based on the hash values of the keys. This was particularly true before Python 3.7, when dictionaries did not guarantee any specific order for the elements.\n",
        "\n",
        "Before Python 3.7:\n",
        "  - In earlier versions of Python (before 3.7), dictionaries did not guarantee the order of the items. The keys and values were stored based on the hash values of the keys, and these hash values determined where the key-value pairs were placed in memory.\n",
        "  - As a result, even though you could iterate over a dictionary, the order in which you accessed the items was not predictable or consistent.\n",
        "\n",
        "Changes in Python 3.7 and Later:\n",
        "  - Starting with Python 3.7, dictionaries do maintain the insertion order of the key-value pairs. This means that the order in which items are added to the dictionary is preserved when iterating over the dictionary.\n",
        "\n",
        "However, despite this change, dictionaries are still technically considered unordered collections because their underlying implementation is based on a hash table, where items are placed in memory based on their hash values, not the order in which they were added.\n",
        "\n",
        "Affect on Data Retrieval:\n",
        "  - Lookup Efficiency (O(1) Time Complexity): The \"unordered\" nature of dictionaries doesn't impact how quickly you can retrieve data. Due to the hash table structure, dictionary lookups by key have an average time complexity of O(1), which means you can get the value associated with a key in constant time, regardless of the order of insertion. The hash table ensures that the key's hash determines where it is located, enabling fast lookups.\n",
        "\n",
        "  - Iteration Order: Prior to Python 3.7, if you looped through a dictionary, you couldn't expect the items to be returned in the same order you inserted them.\n",
        "\n",
        "  - Python 3.7+ (Insertion Order Preserved): Starting with Python 3.7, the insertion order of dictionary items is guaranteed to be preserved. This means that while dictionaries are still implemented using hash tables, they now remember the order in which keys were added. So, if you iterate through a dictionary, you will get the items in the order they were inserted.\n",
        "\n",
        "####20. Explain the difference between a list and a dictionary in terms of data retrieval.\n",
        "-  The main difference between a list and a dictionary in terms of data retrieval lies in how they store and access their elements. Here's a breakdown of how each works:\n",
        "\n",
        "    - Data Structure\n",
        "  - List: A list is an ordered collection of elements indexed by their position, starting from 0. Each item in a list has a specific index.\n",
        "  - Dictionary: A dictionary is an unordered collection of key-value pairs, where each key is unique and maps to a value. Dictionaries use keys for data retrieval, not numeric indices.\n",
        "\n",
        "    - Data Retrieval\n",
        "  - List Retrieval: To retrieve data from a list, you access it via its index.\n",
        "  - Dictionary Retrieval: To retrieve data from a dictionary, you use the key associated with the value.\n",
        "\n",
        "In both cases, retrieval is efficient, but the key distinction is that lists are position-based while dictionaries are key-based, and dictionaries allow for fast lookups using custom keys rather than numeric indices.\n",
        "\n",
        "\n",
        "#Practical Questions\n"
      ],
      "metadata": {
        "id": "iVRvtMc4Yni_"
      }
    },
    {
      "cell_type": "code",
      "source": [
        "#1 Write a code to create a string with your name and print it.\n",
        "\n",
        "# Creating a string with my name\n",
        "my_name = \"Siddhartha\"\n",
        "\n",
        "# Printing the string\n",
        "print(my_name)"
      ],
      "metadata": {
        "colab": {
          "base_uri": "https://localhost:8080/"
        },
        "id": "5jv_auT8egFn",
        "outputId": "ae6687d2-e649-42dc-91f3-1ff36fcd42ee"
      },
      "execution_count": 30,
      "outputs": [
        {
          "output_type": "stream",
          "name": "stdout",
          "text": [
            "Siddhartha\n"
          ]
        }
      ]
    },
    {
      "cell_type": "code",
      "source": [
        "#2 Write a code to find the length of the string \"Hello World\".\n",
        "\n",
        "# Defining the string\n",
        "text = \"Hello World\"\n",
        "\n",
        "# Finding the length of the string\n",
        "length_of_text = len(text)\n",
        "\n",
        "# Printing the length\n",
        "print(length_of_text)"
      ],
      "metadata": {
        "colab": {
          "base_uri": "https://localhost:8080/"
        },
        "id": "jA1b0SEHfQuj",
        "outputId": "36be3a17-ca77-4299-8034-28ebe878d172"
      },
      "execution_count": 31,
      "outputs": [
        {
          "output_type": "stream",
          "name": "stdout",
          "text": [
            "11\n"
          ]
        }
      ]
    },
    {
      "cell_type": "code",
      "source": [
        "#3 Write a code to slice the first 3 characters from the string \"Python Programming\".\n",
        "\n",
        "text = \"Python Programming\"\n",
        "result = text[:3]\n",
        "print(result)"
      ],
      "metadata": {
        "colab": {
          "base_uri": "https://localhost:8080/"
        },
        "id": "zDX_P3h1fpgG",
        "outputId": "23c7d0eb-5bd8-480f-a8e5-5dade7a04f54"
      },
      "execution_count": 1,
      "outputs": [
        {
          "output_type": "stream",
          "name": "stdout",
          "text": [
            "Pyt\n"
          ]
        }
      ]
    },
    {
      "cell_type": "code",
      "source": [
        "#4 Write a code to convert the string \"hello\" to uppercase.\n",
        "\n",
        "text = \"hello\"\n",
        "result = text.upper()\n",
        "print(result)"
      ],
      "metadata": {
        "colab": {
          "base_uri": "https://localhost:8080/"
        },
        "id": "vVxT1vpxvYWv",
        "outputId": "ef808f0a-f68e-42ae-b14a-30a401e60aa2"
      },
      "execution_count": 2,
      "outputs": [
        {
          "output_type": "stream",
          "name": "stdout",
          "text": [
            "HELLO\n"
          ]
        }
      ]
    },
    {
      "cell_type": "code",
      "source": [
        "#5 Write a code to replace the word \"apple\" with \"orange\" in the string \"I like apple\".\n",
        "\n",
        "text = \"I like apple\"\n",
        "result = text.replace(\"apple\", \"orange\")\n",
        "print(result)"
      ],
      "metadata": {
        "colab": {
          "base_uri": "https://localhost:8080/"
        },
        "id": "pi3P9rZqvvnB",
        "outputId": "432508e4-9e92-4b13-a85c-c122c1ec8b6c"
      },
      "execution_count": 3,
      "outputs": [
        {
          "output_type": "stream",
          "name": "stdout",
          "text": [
            "I like orange\n"
          ]
        }
      ]
    },
    {
      "cell_type": "code",
      "source": [
        "#6 Write a code to create a list with numbers 1 to 5 and print it.\n",
        "\n",
        "numbers = list(range(1, 6))\n",
        "print(numbers)"
      ],
      "metadata": {
        "colab": {
          "base_uri": "https://localhost:8080/"
        },
        "id": "_hNXEtKcwMeQ",
        "outputId": "165f0b16-cba1-4e1f-d125-382b81e509c0"
      },
      "execution_count": 5,
      "outputs": [
        {
          "output_type": "stream",
          "name": "stdout",
          "text": [
            "[1, 2, 3, 4, 5]\n"
          ]
        }
      ]
    },
    {
      "cell_type": "code",
      "source": [
        "#7 Write a code to append the number 10 to the list [1, 2, 3, 4].\n",
        "\n",
        "numbers = [1, 2, 3, 4]\n",
        "numbers.append(10)\n",
        "print(numbers)"
      ],
      "metadata": {
        "colab": {
          "base_uri": "https://localhost:8080/"
        },
        "id": "QvHc3XSEwh7x",
        "outputId": "18bad98c-4a33-495e-c3b3-c7212df83491"
      },
      "execution_count": 6,
      "outputs": [
        {
          "output_type": "stream",
          "name": "stdout",
          "text": [
            "[1, 2, 3, 4, 10]\n"
          ]
        }
      ]
    },
    {
      "cell_type": "code",
      "source": [
        "#8 Write a code to remove the number 3 from the list [1, 2, 3, 4, 5].\n",
        "\n",
        "numbers = [1, 2, 3, 4, 5]\n",
        "numbers.remove(3)\n",
        "print(numbers)"
      ],
      "metadata": {
        "colab": {
          "base_uri": "https://localhost:8080/"
        },
        "id": "YWt9aqTixJDM",
        "outputId": "6bdf3fa7-6852-4479-83b5-48ec50959f1e"
      },
      "execution_count": 7,
      "outputs": [
        {
          "output_type": "stream",
          "name": "stdout",
          "text": [
            "[1, 2, 4, 5]\n"
          ]
        }
      ]
    },
    {
      "cell_type": "code",
      "source": [
        "#9 Write a code to access the second element in the list ['a', 'b', 'c', 'd'].\n",
        "\n",
        "letters = ['a', 'b', 'c', 'd']\n",
        "second_element = letters[1]\n",
        "print(second_element)"
      ],
      "metadata": {
        "colab": {
          "base_uri": "https://localhost:8080/"
        },
        "id": "-PLgVZSfxpUo",
        "outputId": "a2b11995-9892-4e1e-94ae-80c59daa62e1"
      },
      "execution_count": 8,
      "outputs": [
        {
          "output_type": "stream",
          "name": "stdout",
          "text": [
            "b\n"
          ]
        }
      ]
    },
    {
      "cell_type": "code",
      "source": [
        "#10 Write a code to reverse the list [10, 20, 30, 40, 50].\n",
        "\n",
        "numbers = [10, 20, 30, 40, 50]\n",
        "numbers.reverse()\n",
        "print(numbers)"
      ],
      "metadata": {
        "colab": {
          "base_uri": "https://localhost:8080/"
        },
        "id": "5ppkv8bFyORd",
        "outputId": "b6994326-0894-4463-f00f-168fb0cb1007"
      },
      "execution_count": 9,
      "outputs": [
        {
          "output_type": "stream",
          "name": "stdout",
          "text": [
            "[50, 40, 30, 20, 10]\n"
          ]
        }
      ]
    },
    {
      "cell_type": "code",
      "source": [
        "#11 Write a code to create a tuple with the elements 100, 200, 300 and print it.\n",
        "\n",
        "my_tuple = (100, 200, 300)\n",
        "print(my_tuple)"
      ],
      "metadata": {
        "colab": {
          "base_uri": "https://localhost:8080/"
        },
        "id": "5Cjf1ZzDygBv",
        "outputId": "cc09bde6-c5ce-49c6-95f4-1832e1e6b116"
      },
      "execution_count": 10,
      "outputs": [
        {
          "output_type": "stream",
          "name": "stdout",
          "text": [
            "(100, 200, 300)\n"
          ]
        }
      ]
    },
    {
      "cell_type": "code",
      "source": [
        "#12 Write a code to access the second-to-last element of the tuple ('red', 'green', 'blue', 'yellow').\n",
        "\n",
        "colors = ('red', 'green', 'blue', 'yellow')\n",
        "second_to_last = colors[-2]\n",
        "print(second_to_last)"
      ],
      "metadata": {
        "colab": {
          "base_uri": "https://localhost:8080/"
        },
        "id": "g2XZB2LHzA_I",
        "outputId": "c6a00357-b938-474b-8cdf-0ca329128aa2"
      },
      "execution_count": 1,
      "outputs": [
        {
          "output_type": "stream",
          "name": "stdout",
          "text": [
            "blue\n"
          ]
        }
      ]
    },
    {
      "cell_type": "code",
      "source": [
        "#13 Write a code to find the minimum number in the tuple (10, 20, 5, 15).\n",
        "\n",
        "numbers = (10, 20, 5, 15)\n",
        "minimum_number = min(numbers)\n",
        "print(minimum_number)"
      ],
      "metadata": {
        "colab": {
          "base_uri": "https://localhost:8080/"
        },
        "id": "99f1MS3BFkK2",
        "outputId": "c63f2f3a-bf5c-44cc-c89f-a169bcd1d445"
      },
      "execution_count": 2,
      "outputs": [
        {
          "output_type": "stream",
          "name": "stdout",
          "text": [
            "5\n"
          ]
        }
      ]
    },
    {
      "cell_type": "code",
      "source": [
        "#14 Write a code to find the index of the element 'cat' in the tuple ('dog', 'cat', 'rabbit').\n",
        "\n",
        "animals = ('dog', 'cat', 'rabbit')\n",
        "index_of_cat = animals.index('cat')\n",
        "print(index_of_cat)"
      ],
      "metadata": {
        "colab": {
          "base_uri": "https://localhost:8080/"
        },
        "id": "LhiCmSVxF7KV",
        "outputId": "9bf41424-9369-473b-ebbc-454984671b6b"
      },
      "execution_count": 4,
      "outputs": [
        {
          "output_type": "stream",
          "name": "stdout",
          "text": [
            "1\n"
          ]
        }
      ]
    },
    {
      "cell_type": "code",
      "source": [
        "#15 Write a code to create a tuple containing three different fruits and check if \"kiwi\" is in it.\n",
        "\n",
        "fruits = ('apple', 'banana', 'orange')\n",
        "is_kiwi_in_tuple = 'kiwi' in fruits\n",
        "print(is_kiwi_in_tuple)"
      ],
      "metadata": {
        "colab": {
          "base_uri": "https://localhost:8080/"
        },
        "id": "wMbAUQy1GRp1",
        "outputId": "135a1927-6a49-4545-db2e-b871a7979b9f"
      },
      "execution_count": 5,
      "outputs": [
        {
          "output_type": "stream",
          "name": "stdout",
          "text": [
            "False\n"
          ]
        }
      ]
    },
    {
      "cell_type": "code",
      "source": [
        "#16 Write a code to create a set with the elements 'a', 'b', 'c' and print it.\n",
        "\n",
        "my_set = {'a', 'b', 'c'}\n",
        "print(my_set)"
      ],
      "metadata": {
        "colab": {
          "base_uri": "https://localhost:8080/"
        },
        "id": "cs0DnJ2bHT7E",
        "outputId": "62a063b4-7f7f-4696-b924-ecea231226a7"
      },
      "execution_count": 7,
      "outputs": [
        {
          "output_type": "stream",
          "name": "stdout",
          "text": [
            "{'c', 'b', 'a'}\n"
          ]
        }
      ]
    },
    {
      "cell_type": "code",
      "source": [
        "#17 Write a code to clear all elements from thw set {1, 2, 3, 4, 5}.\n",
        "\n",
        "my_set = {1, 2, 3, 4, 5}\n",
        "my_set.clear()\n",
        "print(my_set)"
      ],
      "metadata": {
        "colab": {
          "base_uri": "https://localhost:8080/"
        },
        "id": "jnEA-ms4H6fB",
        "outputId": "9189b7e3-5757-40cf-e94f-b7646a94353a"
      },
      "execution_count": 8,
      "outputs": [
        {
          "output_type": "stream",
          "name": "stdout",
          "text": [
            "set()\n"
          ]
        }
      ]
    },
    {
      "cell_type": "code",
      "source": [
        "#18 Write a code to remove the element 4 from the set {1, 2, 3, 4}.\n",
        "\n",
        "my_set = {1, 2, 3, 4}\n",
        "my_set.remove(4)\n",
        "print(my_set)"
      ],
      "metadata": {
        "colab": {
          "base_uri": "https://localhost:8080/"
        },
        "id": "z4Pn_ykuIqes",
        "outputId": "c203dee7-93de-4e36-8cde-3dff102faf52"
      },
      "execution_count": 9,
      "outputs": [
        {
          "output_type": "stream",
          "name": "stdout",
          "text": [
            "{1, 2, 3}\n"
          ]
        }
      ]
    },
    {
      "cell_type": "code",
      "source": [
        "#19 Write a code to find the union of two sets {1, 2, 3} and {3, 4, 5}.\n",
        "\n",
        "set1 = {1, 2, 3}\n",
        "set2 = {3, 4, 5}\n",
        "union_set = set1.union(set2)\n",
        "print(union_set)"
      ],
      "metadata": {
        "colab": {
          "base_uri": "https://localhost:8080/"
        },
        "id": "iL4Hu5lKKaC-",
        "outputId": "2af9b533-51b6-416b-cb72-2ad3304e5f11"
      },
      "execution_count": 10,
      "outputs": [
        {
          "output_type": "stream",
          "name": "stdout",
          "text": [
            "{1, 2, 3, 4, 5}\n"
          ]
        }
      ]
    },
    {
      "cell_type": "code",
      "source": [
        "#20 Write a code to find the intersection of two sets {1, 2, 3} and {2, 3, 4}.\n",
        "\n",
        "set1 = {1, 2, 3}\n",
        "set2 = {2, 3, 4}\n",
        "intersection_set = set1.intersection(set2)\n",
        "print(intersection_set)"
      ],
      "metadata": {
        "colab": {
          "base_uri": "https://localhost:8080/"
        },
        "id": "DcVESO85MF8m",
        "outputId": "e98b1b46-a8e7-436e-eb29-461662580d2d"
      },
      "execution_count": 12,
      "outputs": [
        {
          "output_type": "stream",
          "name": "stdout",
          "text": [
            "{2, 3}\n"
          ]
        }
      ]
    },
    {
      "cell_type": "code",
      "source": [
        "#21 Write a code to create a dictionary with the keys 'name', 'age', and 'city', and print it.\n",
        "\n",
        "my_dict = {\n",
        "    'name': 'Sid',\n",
        "    'age': 34,\n",
        "    'city': 'Varanasi'\n",
        "}\n",
        "print(my_dict)\n"
      ],
      "metadata": {
        "colab": {
          "base_uri": "https://localhost:8080/"
        },
        "id": "vOx1RtLQMwD-",
        "outputId": "f0b144da-4b81-4afc-83a7-ca7d9dde2388"
      },
      "execution_count": 13,
      "outputs": [
        {
          "output_type": "stream",
          "name": "stdout",
          "text": [
            "{'name': 'Sid', 'age': 34, 'city': 'Varanasi'}\n"
          ]
        }
      ]
    },
    {
      "cell_type": "code",
      "source": [
        "#22 Write a code to add a new key-value pair 'country': \"USA\" to the dictionary {'name': 'John', 'age': 25}.\n",
        "\n",
        "my_dict = {'name': 'John', 'age': 25}\n",
        "my_dict['country'] = 'USA'\n",
        "print(my_dict)"
      ],
      "metadata": {
        "colab": {
          "base_uri": "https://localhost:8080/"
        },
        "id": "tRZIi995UaQD",
        "outputId": "432dd7cd-a1d6-4e56-c383-c97bec29af8f"
      },
      "execution_count": 14,
      "outputs": [
        {
          "output_type": "stream",
          "name": "stdout",
          "text": [
            "{'name': 'John', 'age': 25, 'country': 'USA'}\n"
          ]
        }
      ]
    },
    {
      "cell_type": "code",
      "source": [
        "#23 Write a code to access the value associated with the key \"name\" in the dictionary {'name': 'Alice', 'age': 30}.\n",
        "\n",
        "my_dict = {'name': 'Alice', 'age': 30}\n",
        "name_value = my_dict['name']\n",
        "print(name_value)"
      ],
      "metadata": {
        "colab": {
          "base_uri": "https://localhost:8080/"
        },
        "id": "v4-XOhpSVTbA",
        "outputId": "c4f3595e-d5fe-4441-8ced-b105772e1f79"
      },
      "execution_count": 15,
      "outputs": [
        {
          "output_type": "stream",
          "name": "stdout",
          "text": [
            "Alice\n"
          ]
        }
      ]
    },
    {
      "cell_type": "code",
      "source": [
        "#24 Write a code to remove the key \"age\" from the dictionary {'name': 'Bob', 'age': 22, 'city': 'New York'}.\n",
        "\n",
        "my_dict = {'name': 'Bob', 'age': 22, 'city': 'New York'}\n",
        "del my_dict['age']\n",
        "print(my_dict)"
      ],
      "metadata": {
        "colab": {
          "base_uri": "https://localhost:8080/"
        },
        "id": "E71QWGtgWZfg",
        "outputId": "27c926d8-a108-499e-cd37-126662391fc5"
      },
      "execution_count": 16,
      "outputs": [
        {
          "output_type": "stream",
          "name": "stdout",
          "text": [
            "{'name': 'Bob', 'city': 'New York'}\n"
          ]
        }
      ]
    },
    {
      "cell_type": "code",
      "source": [
        "#25 Write a code to check if the key \"city\" exists in the dictionary {'name': 'Alice\", 'city': 'Paris'}.\n",
        "\n",
        "my_dict = {'name': 'Alice', 'city': 'Paris'}\n",
        "key_exists = 'city' in my_dict\n",
        "print(key_exists)"
      ],
      "metadata": {
        "colab": {
          "base_uri": "https://localhost:8080/"
        },
        "id": "edepYOIfXLMc",
        "outputId": "b9d088c1-d77e-4e9e-d59a-ff88b185bcab"
      },
      "execution_count": 17,
      "outputs": [
        {
          "output_type": "stream",
          "name": "stdout",
          "text": [
            "True\n"
          ]
        }
      ]
    },
    {
      "cell_type": "code",
      "source": [
        "#26 Write a code to create a list, a tuple, and a dictionary, and print them all.\n",
        "\n",
        "# Creating a list\n",
        "my_list = [1, 2, 3, 4, 5]\n",
        "\n",
        "# Creating a tuple\n",
        "my_tuple = ('apple', 'banana', 'kiwi')\n",
        "\n",
        "# Creating a dictionary\n",
        "my_dict = {'name': 'Sid', 'age': 35, 'city': 'Varanasi'}\n",
        "\n",
        "# Printing the list, tuple, and dictionary\n",
        "print(\"List:\", my_list)\n",
        "print(\"Tuple:\", my_tuple)\n",
        "print(\"Dictionary:\", my_dict)"
      ],
      "metadata": {
        "colab": {
          "base_uri": "https://localhost:8080/"
        },
        "id": "wR_gEoFPbnRb",
        "outputId": "e72dc5d9-8913-4f86-9fcc-5ee30cd49317"
      },
      "execution_count": 19,
      "outputs": [
        {
          "output_type": "stream",
          "name": "stdout",
          "text": [
            "List: [1, 2, 3, 4, 5]\n",
            "Tuple: ('apple', 'banana', 'kiwi')\n",
            "Dictionary: {'name': 'Sid', 'age': 35, 'city': 'Varanasi'}\n"
          ]
        }
      ]
    },
    {
      "cell_type": "code",
      "source": [
        "#27 Write a code to create a list of 5 random numbers between 1 and 100, sort it in ascending order, and print the result.(replaced)\n",
        "\n",
        "import random\n",
        "\n",
        "# Create a list of 5 random numbers between 1 and 100\n",
        "random_numbers = [random.randint(1, 100) for _ in range(5)]\n",
        "\n",
        "# Sort the list in ascending order\n",
        "random_numbers.sort()\n",
        "\n",
        "# Print the result\n",
        "print(random_numbers)"
      ],
      "metadata": {
        "colab": {
          "base_uri": "https://localhost:8080/"
        },
        "id": "-b_DMDBUcHK8",
        "outputId": "8415d6f2-4fb3-47c2-af6c-0419570d4b98"
      },
      "execution_count": 20,
      "outputs": [
        {
          "output_type": "stream",
          "name": "stdout",
          "text": [
            "[8, 27, 33, 37, 96]\n"
          ]
        }
      ]
    },
    {
      "cell_type": "code",
      "source": [
        "#28 Write a code to create a list with strings and print the element at ghe third index.\n",
        "\n",
        "my_list = [\"apple\", \"banana\", \"cucumber\", \"date\", \"elderberry\"]\n",
        "third_index_element = my_list[3]\n",
        "print(third_index_element)"
      ],
      "metadata": {
        "colab": {
          "base_uri": "https://localhost:8080/"
        },
        "id": "_ibu0ScBc_fa",
        "outputId": "47a34b3a-bbdc-42b7-f5fa-0912f5a502fb"
      },
      "execution_count": 23,
      "outputs": [
        {
          "output_type": "stream",
          "name": "stdout",
          "text": [
            "date\n"
          ]
        }
      ]
    },
    {
      "cell_type": "code",
      "source": [
        "#29 Write a code to combine two dictionaries into one and print the result.\n",
        "\n",
        "dict1 = {'name': 'Sid', 'age': 34}\n",
        "dict2 = {'city': 'Varanasi', 'country': 'India'}\n",
        "\n",
        "# Combine the dictionaries\n",
        "dict1.update(dict2)\n",
        "\n",
        "# Print the result\n",
        "print(dict1)"
      ],
      "metadata": {
        "colab": {
          "base_uri": "https://localhost:8080/"
        },
        "id": "k2uGc-dsdUuc",
        "outputId": "5d3ac755-a2eb-45d4-c3f1-04889c2cc8a2"
      },
      "execution_count": 22,
      "outputs": [
        {
          "output_type": "stream",
          "name": "stdout",
          "text": [
            "{'name': 'Sid', 'age': 34, 'city': 'Varanasi', 'country': 'India'}\n"
          ]
        }
      ]
    },
    {
      "cell_type": "code",
      "source": [
        "#30 Write a code to convert a list of strings into a set.\n",
        "\n",
        "my_list = [\"apple\", \"banana\", \"cherry\", \"apple\", \"banana\"]\n",
        "my_set = set(my_list)\n",
        "print(my_set)"
      ],
      "metadata": {
        "colab": {
          "base_uri": "https://localhost:8080/"
        },
        "id": "wMvthBZXd5xS",
        "outputId": "8449a546-fa99-47f7-a01f-42baa03ff425"
      },
      "execution_count": 24,
      "outputs": [
        {
          "output_type": "stream",
          "name": "stdout",
          "text": [
            "{'banana', 'apple', 'cherry'}\n"
          ]
        }
      ]
    }
  ]
}